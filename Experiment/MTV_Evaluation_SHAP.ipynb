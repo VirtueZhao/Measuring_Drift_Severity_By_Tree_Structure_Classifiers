{
 "cells": [
  {
   "cell_type": "code",
   "execution_count": 5,
   "id": "alert-concrete",
   "metadata": {},
   "outputs": [],
   "source": [
    "from skmultiflow.data import DataStream\n",
    "from skmultiflow.trees import HoeffdingTreeClassifier\n",
    "from statistics import mean, stdev\n",
    "import csv\n",
    "import pandas as pd\n",
    "import shap\n",
    "import MTVlib"
   ]
  },
  {
   "cell_type": "code",
   "execution_count": 3,
   "id": "covered-medicare",
   "metadata": {},
   "outputs": [],
   "source": [
    "def Get_SHAP_Values(model, data_X, feature_list):\n",
    "    shap_values = shap.TreeExplainer(model).shap_values(data_X)[1]\n",
    "    print(shap_values)"
   ]
  },
  {
   "cell_type": "code",
   "execution_count": 7,
   "id": "employed-roller",
   "metadata": {},
   "outputs": [],
   "source": [
    "Iteration = 3\n",
    "SHAP_base_all = []\n",
    "SHAP_1_all = []\n",
    "SHAP_2_all = []\n",
    "SHAP_4_all = []\n",
    "SHAP_8_all = []\n",
    "\n",
    "dataframe = pd.read_csv('MTV_Datasets/Preprocessed_Datasets/Synthetic_Adult_Transformed.csv', header=None)\n",
    "dataframe.columns = dataframe.columns.astype(str)\n",
    "target_index = '59'\n",
    "count = len(dataframe[target_index])\n",
    "    \n",
    "dataframe_base, dataframe_1_1, dataframe_1_2, dataframe_1_4, dataframe_1_8 = MTVlib.generate_dataframe_reverse(dataframe, target_index, 0)\n",
    "    \n",
    "target_idx = 59\n",
    "cat_features= list(range(target_idx))\n",
    "    \n",
    "Stream_Base = DataStream(dataframe_base, target_idx=target_idx, cat_features=cat_features)\n",
    "Stream_1_1 = DataStream(dataframe_1_1, target_idx=target_idx, cat_features=cat_features)\n",
    "Stream_1_2 = DataStream(dataframe_1_2, target_idx=target_idx, cat_features=cat_features)\n",
    "Stream_1_4 = DataStream(dataframe_1_4, target_idx=target_idx, cat_features=cat_features)\n",
    "Stream_1_8 = DataStream(dataframe_1_8, target_idx=target_idx, cat_features=cat_features)"
   ]
  },
  {
   "cell_type": "code",
   "execution_count": 14,
   "id": "progressive-iceland",
   "metadata": {},
   "outputs": [
    {
     "name": "stdout",
     "output_type": "stream",
     "text": [
      "<class 'skmultiflow.trees.hoeffding_tree.HoeffdingTreeClassifier'>\n",
      "48842\n",
      "48842\n"
     ]
    }
   ],
   "source": [
    "HT_Base = HoeffdingTreeClassifier()\n",
    "HT_Base.fit(Stream_Base.X, Stream_Base.y)\n",
    "\n",
    "# HT_1_1 = HoeffdingTreeClassifier(constrain_dict=constrain_dict, feature_list=Base_feature_list)\n",
    "# HT_1_1.partial_fit(Stream_1_1.X, Stream_1_1.y)\n",
    "# feature_list_base_1 = HT_1_1.feature_list\n",
    "\n",
    "# Base_feature_list = HT_Base.feature_list.copy()\n",
    "# HT_1_2 = HoeffdingTreeClassifier(constrain_dict=constrain_dict, feature_list=Base_feature_list)\n",
    "# HT_1_2.partial_fit(Stream_1_2.X, Stream_1_2.y)\n",
    "\n",
    "# Base_feature_list = HT_Base.feature_list.copy()\n",
    "# HT_1_4 = HoeffdingTreeClassifier(constrain_dict=constrain_dict, feature_list=Base_feature_list)\n",
    "# HT_1_4.partial_fit(Stream_1_4.X, Stream_1_4.y)\n",
    "\n",
    "# Base_feature_list = HT_Base.feature_list.copy()\n",
    "# HT_1_8 = HoeffdingTreeClassifier(constrain_dict=constrain_dict, feature_list=Base_feature_list)\n",
    "# HT_1_8.partial_fit(Stream_1_8.X, Stream_1_8.y)"
   ]
  },
  {
   "cell_type": "code",
   "execution_count": null,
   "id": "upset-drain",
   "metadata": {},
   "outputs": [],
   "source": [
    "# SHAP_Base = sum(Get_SHAP_Values(HT_Base, Stream_Base.X))\n",
    "# SHAP_1_1 = sum(Get_Permutation_Importance(HT_1_1, Stream_1_1))\n",
    "# SHAP_1_2 = sum(Get_Permutation_Importance(HT_1_2, Stream_1_2))\n",
    "# SHAP_1_4 = sum(Get_Permutation_Importance(HT_1_4, Stream_1_4))\n",
    "# SHAP_1_8 = sum(Get_Permutation_Importance(HT_1_8, Stream_1_8))\n",
    "    \n",
    "# SHAP_base_all.append(Permutation_Importance_Base)\n",
    "# SHAP_1_all.append(Permutation_Importance_1_1)\n",
    "# SHAP_2_all.append(Permutation_Importance_1_2)\n",
    "# SHAP_4_all.append(Permutation_Importance_1_4)\n",
    "# SHAP_8_all.append(Permutation_Importance_1_8)"
   ]
  },
  {
   "cell_type": "code",
   "execution_count": null,
   "id": "requested-classroom",
   "metadata": {},
   "outputs": [],
   "source": [
    "shap_values = shap.TreeExplainer(HT_Base).shap_values(Stream_Base.X)[1]\n",
    "print(shap_values)"
   ]
  }
 ],
 "metadata": {
  "kernelspec": {
   "display_name": "Python 3",
   "language": "python",
   "name": "python3"
  },
  "language_info": {
   "codemirror_mode": {
    "name": "ipython",
    "version": 3
   },
   "file_extension": ".py",
   "mimetype": "text/x-python",
   "name": "python",
   "nbconvert_exporter": "python",
   "pygments_lexer": "ipython3",
   "version": "3.8.8"
  }
 },
 "nbformat": 4,
 "nbformat_minor": 5
}
