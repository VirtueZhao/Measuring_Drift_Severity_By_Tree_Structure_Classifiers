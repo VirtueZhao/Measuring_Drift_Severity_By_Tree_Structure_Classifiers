{
 "cells": [
  {
   "cell_type": "code",
   "execution_count": 1,
   "metadata": {},
   "outputs": [],
   "source": [
    "import pandas as pd\n",
    "import MTVlib\n",
    "from sklearn import tree\n",
    "from sklearn.tree import _tree\n",
    "from sklearn.tree import DecisionTreeClassifier\n",
    "import matplotlib.pyplot as plt"
   ]
  },
  {
   "cell_type": "code",
   "execution_count": 2,
   "metadata": {},
   "outputs": [
    {
     "data": {
      "text/plain": [
       "DecisionTreeClassifier(criterion='entropy', random_state=42)"
      ]
     },
     "execution_count": 2,
     "metadata": {},
     "output_type": "execute_result"
    }
   ],
   "source": [
    "playtennis_A_df = pd.read_csv('MTV_Datasets/PlayTennis_A.csv', header=None)\n",
    "playtennis_A_df.columns = playtennis_A_df.columns.astype(str)\n",
    "playtennis_B_df = pd.read_csv('MTV_Datasets/PlayTennis_B.csv', header=None)\n",
    "playtennis_B_df.columns = playtennis_B_df.columns.astype(str)\n",
    "playtennis_C_df = pd.read_csv('MTV_Datasets/PlayTennis_C.csv', header=None)\n",
    "playtennis_C_df.columns = playtennis_C_df.columns.astype(str)\n",
    "\n",
    "playtennis_A_x = playtennis_A_df.drop('11', axis=1)\n",
    "playtennis_A_y = playtennis_A_df['11']\n",
    "playtennis_B_x = playtennis_B_df.drop('11', axis=1)\n",
    "playtennis_B_y = playtennis_B_df['11']\n",
    "playtennis_C_x = playtennis_C_df.drop('11', axis=1)\n",
    "playtennis_C_y = playtennis_C_df['11']\n",
    "\n",
    "ds_A = DecisionTreeClassifier(random_state=42,criterion=\"entropy\")\n",
    "ds_A.fit(playtennis_A_x, playtennis_A_y)\n",
    "ds_B = DecisionTreeClassifier(random_state=42,criterion=\"entropy\")\n",
    "ds_B.fit(playtennis_B_x, playtennis_B_y)\n",
    "ds_C = DecisionTreeClassifier(random_state=42,criterion=\"entropy\")\n",
    "ds_C.fit(playtennis_C_x, playtennis_C_y)"
   ]
  },
  {
   "cell_type": "code",
   "execution_count": null,
   "metadata": {},
   "outputs": [],
   "source": [
    "# print(playtennis_A_x.columns)\n",
    "tree.plot_tree(ds_A)"
   ]
  },
  {
   "cell_type": "code",
   "execution_count": null,
   "metadata": {},
   "outputs": [],
   "source": [
    "# fig, ax = plt.subplots(figsize=(12, 12))\n",
    "# tree.plot_tree(ds_A)\n",
    "# tree.plot_tree(ds_B)\n",
    "tree.plot_tree(ds_C)\n",
    "plt.show()"
   ]
  },
  {
   "cell_type": "code",
   "execution_count": 3,
   "metadata": {},
   "outputs": [
    {
     "name": "stdout",
     "output_type": "stream",
     "text": [
      "{'1_0': 0, '1_1': 1, '6_0': 2, '6_1': 3, '10_0': 4, '10_1': 5, '2_0': 6, '2_1': 7, '0_0': 8, '0_1': 9, '5_0': 10, '5_1': 11, '4_0': 12, '4_1': 13, '7_0': 14, '7_1': 15}\n",
      "[[1, 0, 1, 0, 1, 0, 1, 0, 0, 0, 0, 0, 0, 0, 0, 0, (0, 1)], [1, 0, 1, 0, 1, 0, 0, 1, 0, 0, 0, 0, 0, 0, 0, 0, (1, 0)], [1, 0, 1, 0, 0, 1, 0, 0, 0, 0, 0, 0, 0, 0, 0, 0, (0, 3)], [1, 0, 0, 1, 1, 0, 0, 0, 1, 0, 0, 0, 0, 0, 0, 0, (1, 0)], [1, 0, 0, 1, 0, 1, 0, 0, 1, 0, 0, 0, 0, 0, 0, 0, (0, 1)], [1, 0, 0, 1, 0, 0, 0, 0, 0, 1, 0, 0, 0, 0, 0, 0, (3, 0)], [0, 1, 0, 0, 0, 0, 0, 0, 0, 0, 0, 0, 0, 0, 0, 0, (0, 4)]]\n"
     ]
    },
    {
     "ename": "UnboundLocalError",
     "evalue": "local variable 'r' referenced before assignment",
     "output_type": "error",
     "traceback": [
      "\u001b[1;31m---------------------------------------------------------------------------\u001b[0m",
      "\u001b[1;31mUnboundLocalError\u001b[0m                         Traceback (most recent call last)",
      "\u001b[1;32m<ipython-input-3-cc3f25ff3cf8>\u001b[0m in \u001b[0;36m<module>\u001b[1;34m\u001b[0m\n\u001b[0;32m     43\u001b[0m \u001b[1;33m\u001b[0m\u001b[0m\n\u001b[0;32m     44\u001b[0m \u001b[1;31m# A_A_Similarity = MTVlib.Distance_Between_Trees(A_vectors, A_vectors, \"S_JACCARD\")\u001b[0m\u001b[1;33m\u001b[0m\u001b[1;33m\u001b[0m\u001b[1;33m\u001b[0m\u001b[0m\n\u001b[1;32m---> 45\u001b[1;33m \u001b[0mA_A_Distance\u001b[0m \u001b[1;33m=\u001b[0m \u001b[0mMTVlib\u001b[0m\u001b[1;33m.\u001b[0m\u001b[0mDistance_Between_Trees\u001b[0m\u001b[1;33m(\u001b[0m\u001b[0mA_vectors\u001b[0m\u001b[1;33m,\u001b[0m \u001b[0mA_vectors\u001b[0m\u001b[1;33m,\u001b[0m \u001b[1;34m\"D_HELLINGER\"\u001b[0m\u001b[1;33m)\u001b[0m\u001b[1;33m\u001b[0m\u001b[1;33m\u001b[0m\u001b[0m\n\u001b[0m\u001b[0;32m     46\u001b[0m \u001b[1;31m# print(\"A - A Similarity: \" + str(A_A_Similarity))\u001b[0m\u001b[1;33m\u001b[0m\u001b[1;33m\u001b[0m\u001b[1;33m\u001b[0m\u001b[0m\n\u001b[0;32m     47\u001b[0m \u001b[0mprint\u001b[0m\u001b[1;33m(\u001b[0m\u001b[1;34m\"A - A Distance: \"\u001b[0m \u001b[1;33m+\u001b[0m \u001b[0mstr\u001b[0m\u001b[1;33m(\u001b[0m\u001b[0mA_A_Distance\u001b[0m\u001b[1;33m)\u001b[0m\u001b[1;33m)\u001b[0m\u001b[1;33m\u001b[0m\u001b[1;33m\u001b[0m\u001b[0m\n",
      "\u001b[1;32mC:\\Projects\\Model_To_Vector\\MTVlib.py\u001b[0m in \u001b[0;36mDistance_Between_Trees\u001b[1;34m(vec_A, vec_B, measurement)\u001b[0m\n\u001b[0;32m    599\u001b[0m             \u001b[1;32mfor\u001b[0m \u001b[0mv_a\u001b[0m \u001b[1;32min\u001b[0m \u001b[0mA_vectors\u001b[0m\u001b[1;33m:\u001b[0m\u001b[1;33m\u001b[0m\u001b[1;33m\u001b[0m\u001b[0m\n\u001b[0;32m    600\u001b[0m                 \u001b[1;32mfor\u001b[0m \u001b[0mv_b\u001b[0m \u001b[1;32min\u001b[0m \u001b[0mB_vectors\u001b[0m\u001b[1;33m:\u001b[0m\u001b[1;33m\u001b[0m\u001b[1;33m\u001b[0m\u001b[0m\n\u001b[1;32m--> 601\u001b[1;33m                     \u001b[0mdistance\u001b[0m \u001b[1;33m=\u001b[0m \u001b[0mCalculate_Measurement\u001b[0m\u001b[1;33m(\u001b[0m\u001b[0mv_a\u001b[0m\u001b[1;33m,\u001b[0m \u001b[0mv_b\u001b[0m\u001b[1;33m,\u001b[0m \u001b[0mmeasurement\u001b[0m\u001b[1;33m)\u001b[0m\u001b[1;33m\u001b[0m\u001b[1;33m\u001b[0m\u001b[0m\n\u001b[0m\u001b[0;32m    602\u001b[0m                     \u001b[0mdistances\u001b[0m\u001b[1;33m.\u001b[0m\u001b[0mappend\u001b[0m\u001b[1;33m(\u001b[0m\u001b[0mdistance\u001b[0m\u001b[1;33m)\u001b[0m\u001b[1;33m\u001b[0m\u001b[1;33m\u001b[0m\u001b[0m\n\u001b[0;32m    603\u001b[0m \u001b[1;33m\u001b[0m\u001b[0m\n",
      "\u001b[1;32mC:\\Projects\\Model_To_Vector\\MTVlib.py\u001b[0m in \u001b[0;36mCalculate_Measurement\u001b[1;34m(v_a, v_b, measurement)\u001b[0m\n\u001b[0;32m    538\u001b[0m             \u001b[0mdenominator\u001b[0m \u001b[1;33m=\u001b[0m \u001b[0mlaplace_correction\u001b[0m\u001b[1;33m\u001b[0m\u001b[1;33m\u001b[0m\u001b[0m\n\u001b[0;32m    539\u001b[0m         \u001b[0mr\u001b[0m \u001b[1;33m=\u001b[0m \u001b[0mabs\u001b[0m\u001b[1;33m(\u001b[0m\u001b[1;33m(\u001b[0m\u001b[0ma\u001b[0m \u001b[1;33m*\u001b[0m \u001b[1;33m(\u001b[0m\u001b[0mc\u001b[0m \u001b[1;33m+\u001b[0m \u001b[0md\u001b[0m\u001b[1;33m)\u001b[0m\u001b[1;33m)\u001b[0m \u001b[1;33m/\u001b[0m \u001b[0mdenominator\u001b[0m\u001b[1;33m)\u001b[0m\u001b[1;33m\u001b[0m\u001b[1;33m\u001b[0m\u001b[0m\n\u001b[1;32m--> 540\u001b[1;33m     \u001b[1;32mreturn\u001b[0m \u001b[0mr\u001b[0m\u001b[1;33m\u001b[0m\u001b[1;33m\u001b[0m\u001b[0m\n\u001b[0m\u001b[0;32m    541\u001b[0m \u001b[1;33m\u001b[0m\u001b[0m\n\u001b[0;32m    542\u001b[0m \u001b[1;33m\u001b[0m\u001b[0m\n",
      "\u001b[1;31mUnboundLocalError\u001b[0m: local variable 'r' referenced before assignment"
     ]
    }
   ],
   "source": [
    "A_B_feature_list = [1, 6, 10, 2, 0, 5, 4, 7]\n",
    "A_B_feature_dict = MTVlib.get_feature_encoded_dict(A_B_feature_list)\n",
    "print(A_B_feature_dict)\n",
    "A_C_feature_list = [1, 6, 10, 2, 0]\n",
    "A_C_feature_dict = MTVlib.get_feature_encoded_dict(A_C_feature_list)\n",
    "# print(A_C_feature_dict)\n",
    "\n",
    "A_rules = [\n",
    "    ['1_0', '6_0', '10_0', '2_0', (0, 1)], \n",
    "    ['1_0', '6_0', '10_0', '2_1', (1, 0)], \n",
    "    ['1_0', '6_0', '10_1', (0, 3)], \n",
    "    ['1_0', '6_1', '0_0', '10_0', (1, 0)], \n",
    "    ['1_0', '6_1', '0_0', '10_1', (0, 1)], \n",
    "    ['1_0', '6_1', '0_1', (3, 0)], \n",
    "    ['1_1', (0, 4)]\n",
    "]\n",
    "B_rules = [\n",
    "    ['0_0', '6_0', '5_0', (0, 2)], \n",
    "    ['0_0', '6_0', '5_1', '10_0', '1_0', (0, 1)], \n",
    "    ['0_0', '6_0', '5_1', '10_0', '1_1', (1, 0)], \n",
    "    ['0_0', '6_0', '5_1', '10_1', (1, 0)], \n",
    "    ['0_0', '6_1', '10_0', '1_0', (1, 0)], \n",
    "    ['0_0', '6_1', '10_0', '1_1', (0, 1)], \n",
    "    ['0_0', '6_1', '10_1', (2, 0)], \n",
    "    ['0_1', '4_0', (0, 3)], \n",
    "    ['0_1', '4_1', '7_0', (1, 0)], \n",
    "    ['0_1', '4_1', '7_1', (0, 1)]\n",
    "]\n",
    "C_rules = [\n",
    "    ['1_0', '6_0', '10_0', '2_0', (1, 0)], \n",
    "    ['1_0', '6_0', '10_0', '2_1', (0, 1)], \n",
    "    ['1_0', '6_0', '10_1', (3, 0)], \n",
    "    ['1_0', '6_1', '0_0', '10_0', (0, 1)], \n",
    "    ['1_0', '6_1', '0_0', '10_1', (1, 0)], \n",
    "    ['1_0', '6_1', '0_1', (0, 3)], \n",
    "    ['1_1', (4, 0)]\n",
    "]\n",
    "\n",
    "A_vectors = MTVlib.rules_to_vectors(A_rules, A_B_feature_dict)\n",
    "\n",
    "print(A_vectors)\n",
    "B_vectors = MTVlib.rules_to_vectors(B_rules, A_B_feature_dict)\n",
    "\n",
    "# A_A_Similarity = MTVlib.Distance_Between_Trees(A_vectors, A_vectors, \"S_JACCARD\")\n",
    "A_A_Distance = MTVlib.Distance_Between_Trees(A_vectors, A_vectors, \"D_HELLINGER\")\n",
    "# print(\"A - A Similarity: \" + str(A_A_Similarity))\n",
    "print(\"A - A Distance: \" + str(A_A_Distance))\n",
    "# A_B_Similarity = MTVlib.Distance_Between_Trees(A_vectors, B_vectors, \"S_JACCARD\")\n",
    "# A_B_Distance = MTVlib.Distance_Between_Trees(A_vectors, B_vectors, \"D_HELLINGER\")\n",
    "# print(\"A - B Similarity: \" + str(A_B_Similarity))\n",
    "# print(\"A - B Distance: \" + str(A_B_Distance))\n",
    "\n",
    "# A_vectors = MTVlib.rules_to_vectors(A_rules, A_C_feature_dict)\n",
    "# C_vectors = MTVlib.rules_to_vectors(C_rules, A_C_feature_dict)\n",
    "# A_C_Similarity = MTVlib.Distance_Between_Trees(A_vectors, C_vectors, \"S_JACCARD\")\n",
    "# A_C_Distance = MTVlib.Distance_Between_Trees(A_vectors, C_vectors, \"D_HELLINGER\")\n",
    "# print(\"A - C Similarity: \" + str(A_C_Similarity))\n",
    "# print(\"A - C Distance: \" + str(A_C_Distance))"
   ]
  },
  {
   "cell_type": "code",
   "execution_count": null,
   "metadata": {},
   "outputs": [],
   "source": [
    "A_B_feature_list = [1, 6, 10, 2, 0, 5, 4, 7]\n",
    "A_B_feature_dict = MTVlib.get_feature_encoded_dict(A_B_feature_list)\n",
    "print(A_B_feature_dict)\n",
    "A_C_feature_list = [1, 6, 10, 2, 0]\n",
    "A_C_feature_dict = MTVlib.get_feature_encoded_dict(A_C_feature_list)\n",
    "# print(A_C_feature_dict)\n",
    "\n",
    "A_rules = [\n",
    "    ['1_0', '6_0', '10_0', '2_0', (0, 1)], \n",
    "    ['1_0', '6_0', '10_0', '2_1', (1, 0)], \n",
    "    ['1_0', '6_0', '10_1', (0, 3)], \n",
    "    ['1_0', '6_1', '0_0', '10_0', (1, 0)], \n",
    "    ['1_0', '6_1', '0_0', '10_1', (0, 1)], \n",
    "    ['1_0', '6_1', '0_1', (3, 0)], \n",
    "    ['1_1', (0, 4)]\n",
    "]\n",
    "B_rules = [\n",
    "    ['0_0', '6_0', '5_0', (0, 2)], \n",
    "    ['0_0', '6_0', '5_1', '10_0', '1_0', (0, 1)], \n",
    "    ['0_0', '6_0', '5_1', '10_0', '1_1', (1, 0)], \n",
    "    ['0_0', '6_0', '5_1', '10_1', (1, 0)], \n",
    "    ['0_0', '6_1', '10_0', '1_0', (1, 0)], \n",
    "    ['0_0', '6_1', '10_0', '1_1', (0, 1)], \n",
    "    ['0_0', '6_1', '10_1', (2, 0)], \n",
    "    ['0_1', '4_0', (0, 3)], \n",
    "    ['0_1', '4_1', '7_0', (1, 0)], \n",
    "    ['0_1', '4_1', '7_1', (0, 1)]\n",
    "]\n",
    "C_rules = [\n",
    "    ['1_0', '6_0', '10_0', '2_0', (1, 0)], \n",
    "    ['1_0', '6_0', '10_0', '2_1', (0, 1)], \n",
    "    ['1_0', '6_0', '10_1', (3, 0)], \n",
    "    ['1_0', '6_1', '0_0', '10_0', (0, 1)], \n",
    "    ['1_0', '6_1', '0_0', '10_1', (1, 0)], \n",
    "    ['1_0', '6_1', '0_1', (0, 3)], \n",
    "    ['1_1', (4, 0)]\n",
    "]\n",
    "\n",
    "A_vectors = MTVlib.rules_to_vectors(A_rules, A_B_feature_dict)\n",
    "B_vectors = MTVlib.rules_to_vectors(B_rules, A_B_feature_dict)\n",
    "\n",
    "# A_A_Similarity = MTVlib.Distance_Between_Trees(A_vectors, A_vectors, \"S_JACCARD\")\n",
    "# A_A_Distance = MTVlib.Distance_Between_Trees(A_vectors, A_vectors, \"D_HELLINGER\")\n",
    "# print(\"A - A Similarity: \" + str(A_A_Similarity))\n",
    "# print(\"A - A Distance: \" + str(A_A_Distance))\n",
    "# A_B_Similarity = MTVlib.Distance_Between_Trees(A_vectors, B_vectors, \"S_JACCARD\")\n",
    "A_B_Distance = MTVlib.Distance_Between_Trees(A_vectors, B_vectors, \"D_HELLINGER\")\n",
    "# print(\"A - B Similarity: \" + str(A_B_Similarity))\n",
    "print(\"A - B Distance: \" + str(A_B_Distance))\n",
    "\n",
    "A_vectors = MTVlib.rules_to_vectors(A_rules, A_C_feature_dict)\n",
    "C_vectors = MTVlib.rules_to_vectors(C_rules, A_C_feature_dict)\n",
    "# A_C_Similarity = MTVlib.Distance_Between_Trees(A_vectors, C_vectors, \"S_JACCARD\")\n",
    "A_C_Distance = MTVlib.Distance_Between_Trees(A_vectors, C_vectors, \"D_HELLINGER\")\n",
    "# print(\"A - C Similarity: \" + str(A_C_Similarity))\n",
    "print(\"A - C Distance: \" + str(A_C_Distance))"
   ]
  }
 ],
 "metadata": {
  "kernelspec": {
   "display_name": "Python 3",
   "language": "python",
   "name": "python3"
  },
  "language_info": {
   "codemirror_mode": {
    "name": "ipython",
    "version": 3
   },
   "file_extension": ".py",
   "mimetype": "text/x-python",
   "name": "python",
   "nbconvert_exporter": "python",
   "pygments_lexer": "ipython3",
   "version": "3.8.8"
  }
 },
 "nbformat": 4,
 "nbformat_minor": 4
}
